{
 "cells": [
  {
   "cell_type": "markdown",
   "id": "8a4fe1bf",
   "metadata": {},
   "source": [
    "# Suppose we want to estimate the average weight of an adult male in    Mexico. We draw a random sample of 2,000 men from a population of 3,000,000 men and weigh them. We find that the average person in our sample weighs 200 pounds, and the standard deviation of the sample is 30 pounds. Calculate 94%,98%,96% confidence interval?"
   ]
  },
  {
   "cell_type": "code",
   "execution_count": 2,
   "id": "c2325ed3",
   "metadata": {},
   "outputs": [],
   "source": [
    "# here sample size (n) = 2000,  sample mean = 200 and sample std = 30\n",
    "# here we need to calculate the 94% , 98% , 96% confidence interval"
   ]
  },
  {
   "cell_type": "code",
   "execution_count": 8,
   "id": "452dfe1a",
   "metadata": {},
   "outputs": [],
   "source": [
    "# importing required libraries\n",
    "from scipy.stats import norm\n",
    "from scipy.stats import t\n",
    "import numpy as np"
   ]
  },
  {
   "cell_type": "code",
   "execution_count": 18,
   "id": "198703f6",
   "metadata": {},
   "outputs": [
    {
     "data": {
      "text/plain": [
       "(198.73832481509905, 201.26167518490095)"
      ]
     },
     "execution_count": 18,
     "metadata": {},
     "output_type": "execute_result"
    }
   ],
   "source": [
    "# calculating 94% , 98% , 96% confidence interval\n",
    "# here we dont know the population standard deviation so we use t distribution\n",
    "t.interval(0.94,2999999,loc = 200 , scale = 30/np.sqrt(2000))"
   ]
  },
  {
   "cell_type": "code",
   "execution_count": 19,
   "id": "d5b184ed",
   "metadata": {},
   "outputs": [
    {
     "data": {
      "text/plain": [
       "(198.43943757045272, 201.56056242954728)"
      ]
     },
     "execution_count": 19,
     "metadata": {},
     "output_type": "execute_result"
    }
   ],
   "source": [
    "t.interval(0.98,2999999,loc = 200 , scale = 30/np.sqrt(2000))"
   ]
  },
  {
   "cell_type": "code",
   "execution_count": 20,
   "id": "cb1ab501",
   "metadata": {},
   "outputs": [
    {
     "data": {
      "text/plain": [
       "(198.6223027490777, 201.3776972509223)"
      ]
     },
     "execution_count": 20,
     "metadata": {},
     "output_type": "execute_result"
    }
   ],
   "source": [
    "t.interval(0.96,2999999,loc = 200 , scale = 30/np.sqrt(2000))"
   ]
  },
  {
   "cell_type": "code",
   "execution_count": null,
   "id": "0c7697d9",
   "metadata": {},
   "outputs": [],
   "source": []
  }
 ],
 "metadata": {
  "kernelspec": {
   "display_name": "Python 3 (ipykernel)",
   "language": "python",
   "name": "python3"
  },
  "language_info": {
   "codemirror_mode": {
    "name": "ipython",
    "version": 3
   },
   "file_extension": ".py",
   "mimetype": "text/x-python",
   "name": "python",
   "nbconvert_exporter": "python",
   "pygments_lexer": "ipython3",
   "version": "3.11.4"
  }
 },
 "nbformat": 4,
 "nbformat_minor": 5
}
