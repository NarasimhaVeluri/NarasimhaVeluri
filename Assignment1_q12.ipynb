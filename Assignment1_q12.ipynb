{
 "cells": [
  {
   "cell_type": "markdown",
   "id": "94a252cd",
   "metadata": {},
   "source": [
    "# Below are the scores obtained by a student in tests \n",
    "# 34,36,36,38,38,39,39,40,40,41,41,41,41,42,42,45,49,56\n",
    "# ⦁\tFind mean, median, variance, standard deviation.\n",
    "# ⦁\tWhat can we say about the student marks? "
   ]
  },
  {
   "cell_type": "code",
   "execution_count": 1,
   "id": "a6d0fb2c",
   "metadata": {},
   "outputs": [],
   "source": [
    "# here we are importing required libraries\n",
    "import pandas as pd\n",
    "import numpy as np"
   ]
  },
  {
   "cell_type": "code",
   "execution_count": 3,
   "id": "93870962",
   "metadata": {},
   "outputs": [],
   "source": [
    "marks = pd.Series([34,36,36,38,38,39,39,40,40,41,41,41,41,42,42,45,49,56])"
   ]
  },
  {
   "cell_type": "code",
   "execution_count": 4,
   "id": "449cbab7",
   "metadata": {},
   "outputs": [
    {
     "data": {
      "text/plain": [
       "0     34\n",
       "1     36\n",
       "2     36\n",
       "3     38\n",
       "4     38\n",
       "5     39\n",
       "6     39\n",
       "7     40\n",
       "8     40\n",
       "9     41\n",
       "10    41\n",
       "11    41\n",
       "12    41\n",
       "13    42\n",
       "14    42\n",
       "15    45\n",
       "16    49\n",
       "17    56\n",
       "dtype: int64"
      ]
     },
     "execution_count": 4,
     "metadata": {},
     "output_type": "execute_result"
    }
   ],
   "source": [
    "marks"
   ]
  },
  {
   "cell_type": "code",
   "execution_count": 5,
   "id": "c09b7aa6",
   "metadata": {},
   "outputs": [
    {
     "data": {
      "text/plain": [
       "count    18.000000\n",
       "mean     41.000000\n",
       "std       5.052664\n",
       "min      34.000000\n",
       "25%      38.250000\n",
       "50%      40.500000\n",
       "75%      41.750000\n",
       "max      56.000000\n",
       "dtype: float64"
      ]
     },
     "execution_count": 5,
     "metadata": {},
     "output_type": "execute_result"
    }
   ],
   "source": [
    "marks.describe()"
   ]
  },
  {
   "cell_type": "code",
   "execution_count": 10,
   "id": "5adde787",
   "metadata": {},
   "outputs": [
    {
     "data": {
      "text/plain": [
       "25.53"
      ]
     },
     "execution_count": 10,
     "metadata": {},
     "output_type": "execute_result"
    }
   ],
   "source": [
    "np.round(marks.var(),2)"
   ]
  },
  {
   "cell_type": "markdown",
   "id": "3d6b61ee",
   "metadata": {},
   "source": [
    "# from the above calculations , we can say that the verage marks are about 41 which is almost eqal to median and the standard deviation is 5.05 , which means the marks are not spread far."
   ]
  },
  {
   "cell_type": "code",
   "execution_count": null,
   "id": "8bae416e",
   "metadata": {},
   "outputs": [],
   "source": []
  }
 ],
 "metadata": {
  "kernelspec": {
   "display_name": "Python 3 (ipykernel)",
   "language": "python",
   "name": "python3"
  },
  "language_info": {
   "codemirror_mode": {
    "name": "ipython",
    "version": 3
   },
   "file_extension": ".py",
   "mimetype": "text/x-python",
   "name": "python",
   "nbconvert_exporter": "python",
   "pygments_lexer": "ipython3",
   "version": "3.11.4"
  }
 },
 "nbformat": 4,
 "nbformat_minor": 5
}
