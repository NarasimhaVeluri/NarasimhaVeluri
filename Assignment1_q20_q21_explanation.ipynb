{
 "cells": [
  {
   "cell_type": "markdown",
   "id": "2b79f7a4",
   "metadata": {},
   "source": [
    "# importing required libraries"
   ]
  },
  {
   "cell_type": "code",
   "execution_count": 2,
   "id": "4535fc30",
   "metadata": {},
   "outputs": [],
   "source": [
    "import pandas as pd\n",
    "import numpy as np\n",
    "import matplotlib.pyplot as plt\n",
    "import seaborn as sns\n",
    "from scipy.stats import binom,norm"
   ]
  },
  {
   "cell_type": "code",
   "execution_count": 3,
   "id": "1cf1c4ac",
   "metadata": {},
   "outputs": [],
   "source": [
    "#loading data set"
   ]
  },
  {
   "cell_type": "code",
   "execution_count": 4,
   "id": "f3c99afe",
   "metadata": {},
   "outputs": [],
   "source": [
    "df = pd.read_csv('Cars.csv')"
   ]
  },
  {
   "cell_type": "code",
   "execution_count": 5,
   "id": "04d6eb54",
   "metadata": {},
   "outputs": [
    {
     "data": {
      "text/html": [
       "<div>\n",
       "<style scoped>\n",
       "    .dataframe tbody tr th:only-of-type {\n",
       "        vertical-align: middle;\n",
       "    }\n",
       "\n",
       "    .dataframe tbody tr th {\n",
       "        vertical-align: top;\n",
       "    }\n",
       "\n",
       "    .dataframe thead th {\n",
       "        text-align: right;\n",
       "    }\n",
       "</style>\n",
       "<table border=\"1\" class=\"dataframe\">\n",
       "  <thead>\n",
       "    <tr style=\"text-align: right;\">\n",
       "      <th></th>\n",
       "      <th>HP</th>\n",
       "      <th>MPG</th>\n",
       "      <th>VOL</th>\n",
       "      <th>SP</th>\n",
       "      <th>WT</th>\n",
       "    </tr>\n",
       "  </thead>\n",
       "  <tbody>\n",
       "    <tr>\n",
       "      <th>0</th>\n",
       "      <td>49</td>\n",
       "      <td>53.700681</td>\n",
       "      <td>89</td>\n",
       "      <td>104.185353</td>\n",
       "      <td>28.762059</td>\n",
       "    </tr>\n",
       "    <tr>\n",
       "      <th>1</th>\n",
       "      <td>55</td>\n",
       "      <td>50.013401</td>\n",
       "      <td>92</td>\n",
       "      <td>105.461264</td>\n",
       "      <td>30.466833</td>\n",
       "    </tr>\n",
       "    <tr>\n",
       "      <th>2</th>\n",
       "      <td>55</td>\n",
       "      <td>50.013401</td>\n",
       "      <td>92</td>\n",
       "      <td>105.461264</td>\n",
       "      <td>30.193597</td>\n",
       "    </tr>\n",
       "    <tr>\n",
       "      <th>3</th>\n",
       "      <td>70</td>\n",
       "      <td>45.696322</td>\n",
       "      <td>92</td>\n",
       "      <td>113.461264</td>\n",
       "      <td>30.632114</td>\n",
       "    </tr>\n",
       "    <tr>\n",
       "      <th>4</th>\n",
       "      <td>53</td>\n",
       "      <td>50.504232</td>\n",
       "      <td>92</td>\n",
       "      <td>104.461264</td>\n",
       "      <td>29.889149</td>\n",
       "    </tr>\n",
       "  </tbody>\n",
       "</table>\n",
       "</div>"
      ],
      "text/plain": [
       "   HP        MPG  VOL          SP         WT\n",
       "0  49  53.700681   89  104.185353  28.762059\n",
       "1  55  50.013401   92  105.461264  30.466833\n",
       "2  55  50.013401   92  105.461264  30.193597\n",
       "3  70  45.696322   92  113.461264  30.632114\n",
       "4  53  50.504232   92  104.461264  29.889149"
      ]
     },
     "execution_count": 5,
     "metadata": {},
     "output_type": "execute_result"
    }
   ],
   "source": [
    "df.head()"
   ]
  },
  {
   "cell_type": "code",
   "execution_count": 6,
   "id": "efb8d85a",
   "metadata": {},
   "outputs": [
    {
     "data": {
      "text/plain": [
       "count    81.00\n",
       "mean     34.42\n",
       "std       9.13\n",
       "min      12.10\n",
       "25%      27.86\n",
       "50%      35.15\n",
       "75%      39.53\n",
       "max      53.70\n",
       "Name: MPG, dtype: float64"
      ]
     },
     "execution_count": 6,
     "metadata": {},
     "output_type": "execute_result"
    }
   ],
   "source": [
    "df['MPG'].describe().round(2)"
   ]
  },
  {
   "cell_type": "code",
   "execution_count": 8,
   "id": "2ba28a40",
   "metadata": {},
   "outputs": [],
   "source": [
    "# calculatiing mean and stndard deviation of MPG\n",
    "mpg_mean = df['MPG'].mean()\n",
    "mpg_std = df['MPG'].std()"
   ]
  },
  {
   "cell_type": "code",
   "execution_count": 9,
   "id": "0b0c05c7",
   "metadata": {},
   "outputs": [
    {
     "data": {
      "text/plain": [
       "(34.42207572802469, 9.131444731795982)"
      ]
     },
     "execution_count": 9,
     "metadata": {},
     "output_type": "execute_result"
    }
   ],
   "source": [
    "mpg_mean,mpg_std"
   ]
  },
  {
   "cell_type": "markdown",
   "id": "8303e390",
   "metadata": {},
   "source": [
    "# Calculate the probability of MPG  of Cars for the below cases\n",
    "\n",
    "# P(MPG>38)\n",
    "# P(MPG<40)\n",
    "# P (20<MPG<50)"
   ]
  },
  {
   "cell_type": "code",
   "execution_count": 14,
   "id": "3be88b57",
   "metadata": {},
   "outputs": [],
   "source": [
    "# by using norm function we will calculate the probability"
   ]
  },
  {
   "cell_type": "code",
   "execution_count": 15,
   "id": "49320162",
   "metadata": {},
   "outputs": [
    {
     "data": {
      "text/plain": [
       "0.34759392515827137"
      ]
     },
     "execution_count": 15,
     "metadata": {},
     "output_type": "execute_result"
    }
   ],
   "source": [
    "1-norm.cdf(38,loc = mpg_mean, scale = mpg_std)"
   ]
  },
  {
   "cell_type": "code",
   "execution_count": null,
   "id": "1812a6ce",
   "metadata": {},
   "outputs": [],
   "source": [
    "# about 34 % values of MPG are lies above 38"
   ]
  },
  {
   "cell_type": "code",
   "execution_count": 16,
   "id": "5d94a680",
   "metadata": {},
   "outputs": [
    {
     "data": {
      "text/plain": [
       "0.7293498762151609"
      ]
     },
     "execution_count": 16,
     "metadata": {},
     "output_type": "execute_result"
    }
   ],
   "source": [
    "norm.cdf(40,loc = mpg_mean, scale = mpg_std)"
   ]
  },
  {
   "cell_type": "code",
   "execution_count": 17,
   "id": "2aeed99d",
   "metadata": {},
   "outputs": [],
   "source": [
    "# about 73% values of MPG are lies below 40"
   ]
  },
  {
   "cell_type": "code",
   "execution_count": 18,
   "id": "6216973f",
   "metadata": {},
   "outputs": [
    {
     "data": {
      "text/plain": [
       "0.8988689169682047"
      ]
     },
     "execution_count": 18,
     "metadata": {},
     "output_type": "execute_result"
    }
   ],
   "source": [
    "norm.cdf(50,loc = mpg_mean, scale = mpg_std) - norm.cdf(20,loc = mpg_mean, scale = mpg_std)"
   ]
  },
  {
   "cell_type": "code",
   "execution_count": 19,
   "id": "46171ab0",
   "metadata": {},
   "outputs": [],
   "source": [
    "# about 89% values are lies between 20 and 50"
   ]
  },
  {
   "cell_type": "code",
   "execution_count": 20,
   "id": "3f1465d4",
   "metadata": {},
   "outputs": [],
   "source": [
    "# visualization using seaborn"
   ]
  },
  {
   "cell_type": "code",
   "execution_count": 21,
   "id": "ef7981f9",
   "metadata": {},
   "outputs": [
    {
     "data": {
      "image/png": "[encoded data removed]",
      "text/plain": [
       "<Figure size 640x480 with 1 Axes>"
      ]
     },
     "metadata": {},
     "output_type": "display_data"
    }
   ],
   "source": [
    "sns.kdeplot(data = df, x = 'MPG',fill = True, color ='blue');"
   ]
  },
  {
   "cell_type": "code",
   "execution_count": 22,
   "id": "8e9952f5",
   "metadata": {},
   "outputs": [
    {
     "data": {
      "image/png": "[encoded data removed]",
      "text/plain": [
       "<Figure size 640x480 with 1 Axes>"
      ]
     },
     "metadata": {},
     "output_type": "display_data"
    }
   ],
   "source": [
    "sns.histplot(data = df, x = 'MPG', edgecolor ='k');"
   ]
  },
  {
   "cell_type": "markdown",
   "id": "88cc2b57",
   "metadata": {},
   "source": [
    "# from the above visualisation we can sat that the MPG of a data set s not normally distributed"
   ]
  },
  {
   "cell_type": "markdown",
   "id": "c85c2f47",
   "metadata": {},
   "source": [
    "# Q. Check Whether the Adipose Tissue (AT) and Waist Circumference(Waist)  from wc-at data set  follows Normal Distribution"
   ]
  },
  {
   "cell_type": "code",
   "execution_count": 23,
   "id": "0354335e",
   "metadata": {},
   "outputs": [],
   "source": [
    "# loading data set"
   ]
  },
  {
   "cell_type": "code",
   "execution_count": 24,
   "id": "d80ec026",
   "metadata": {},
   "outputs": [],
   "source": [
    "df1 = pd.read_csv('wc-at.csv')"
   ]
  },
  {
   "cell_type": "code",
   "execution_count": 25,
   "id": "6b2fc6e9",
   "metadata": {},
   "outputs": [
    {
     "data": {
      "text/html": [
       "<div>\n",
       "<style scoped>\n",
       "    .dataframe tbody tr th:only-of-type {\n",
       "        vertical-align: middle;\n",
       "    }\n",
       "\n",
       "    .dataframe tbody tr th {\n",
       "        vertical-align: top;\n",
       "    }\n",
       "\n",
       "    .dataframe thead th {\n",
       "        text-align: right;\n",
       "    }\n",
       "</style>\n",
       "<table border=\"1\" class=\"dataframe\">\n",
       "  <thead>\n",
       "    <tr style=\"text-align: right;\">\n",
       "      <th></th>\n",
       "      <th>Waist</th>\n",
       "      <th>AT</th>\n",
       "    </tr>\n",
       "  </thead>\n",
       "  <tbody>\n",
       "    <tr>\n",
       "      <th>0</th>\n",
       "      <td>74.75</td>\n",
       "      <td>25.72</td>\n",
       "    </tr>\n",
       "    <tr>\n",
       "      <th>1</th>\n",
       "      <td>72.60</td>\n",
       "      <td>25.89</td>\n",
       "    </tr>\n",
       "    <tr>\n",
       "      <th>2</th>\n",
       "      <td>81.80</td>\n",
       "      <td>42.60</td>\n",
       "    </tr>\n",
       "    <tr>\n",
       "      <th>3</th>\n",
       "      <td>83.95</td>\n",
       "      <td>42.80</td>\n",
       "    </tr>\n",
       "    <tr>\n",
       "      <th>4</th>\n",
       "      <td>74.65</td>\n",
       "      <td>29.84</td>\n",
       "    </tr>\n",
       "  </tbody>\n",
       "</table>\n",
       "</div>"
      ],
      "text/plain": [
       "   Waist     AT\n",
       "0  74.75  25.72\n",
       "1  72.60  25.89\n",
       "2  81.80  42.60\n",
       "3  83.95  42.80\n",
       "4  74.65  29.84"
      ]
     },
     "execution_count": 25,
     "metadata": {},
     "output_type": "execute_result"
    }
   ],
   "source": [
    "df1.head()"
   ]
  },
  {
   "cell_type": "code",
   "execution_count": 26,
   "id": "5b34fbcb",
   "metadata": {},
   "outputs": [],
   "source": [
    "# visualising using seaborn"
   ]
  },
  {
   "cell_type": "code",
   "execution_count": 28,
   "id": "7ad991da",
   "metadata": {},
   "outputs": [
    {
     "data": {
      "image/png": "[encoded data removed]",
      "text/plain": [
       "<Figure size 640x480 with 1 Axes>"
      ]
     },
     "metadata": {},
     "output_type": "display_data"
    }
   ],
   "source": [
    "sns.kdeplot(data = df1, x = 'Waist', fill = True, color = 'blue');"
   ]
  },
  {
   "cell_type": "markdown",
   "id": "94986474",
   "metadata": {},
   "source": [
    "# from the above kde plot, we can say that the Waist of the data set is not normally distributed"
   ]
  },
  {
   "cell_type": "code",
   "execution_count": 31,
   "id": "182e96e0",
   "metadata": {},
   "outputs": [
    {
     "data": {
      "image/png": "[encoded data removed]",
      "text/plain": [
       "<Figure size 640x480 with 1 Axes>"
      ]
     },
     "metadata": {},
     "output_type": "display_data"
    }
   ],
   "source": [
    "sns.kdeplot(data = df1, x = 'AT', fill = True, color ='blue');"
   ]
  },
  {
   "cell_type": "markdown",
   "id": "1e748813",
   "metadata": {},
   "source": [
    "# From the above visualisation, we can say that the data of AT is not normally distributed"
   ]
  },
  {
   "cell_type": "code",
   "execution_count": null,
   "id": "1f5253fc",
   "metadata": {},
   "outputs": [],
   "source": []
  }
 ],
 "metadata": {
  "kernelspec": {
   "display_name": "Python 3 (ipykernel)",
   "language": "python",
   "name": "python3"
  },
  "language_info": {
   "codemirror_mode": {
    "name": "ipython",
    "version": 3
   },
   "file_extension": ".py",
   "mimetype": "text/x-python",
   "name": "python",
   "nbconvert_exporter": "python",
   "pygments_lexer": "ipython3",
   "version": "3.11.4"
  }
 },
 "nbformat": 4,
 "nbformat_minor": 5
}
