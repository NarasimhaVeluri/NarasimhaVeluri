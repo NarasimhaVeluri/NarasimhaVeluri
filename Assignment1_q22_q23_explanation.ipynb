{
 "cells": [
  {
   "cell_type": "code",
   "execution_count": 1,
   "id": "c7a03064",
   "metadata": {},
   "outputs": [],
   "source": [
    "# importing required libraries for calculating the Z scores and T scores for different intervals"
   ]
  },
  {
   "cell_type": "code",
   "execution_count": 2,
   "id": "9b536849",
   "metadata": {},
   "outputs": [],
   "source": [
    "from scipy.stats import norm\n",
    "from scipy.stats import t"
   ]
  },
  {
   "cell_type": "markdown",
   "id": "8bcff361",
   "metadata": {},
   "source": [
    "# Calculate the Z scores of  90% confidence interval,94% confidence interval, 60% confidence interval "
   ]
  },
  {
   "cell_type": "code",
   "execution_count": 3,
   "id": "f4872be8",
   "metadata": {},
   "outputs": [],
   "source": [
    "# here we devide the ALPHA value into 2 parts to know the howmany values lies in between the confidence interval"
   ]
  },
  {
   "cell_type": "code",
   "execution_count": 4,
   "id": "f1b57552",
   "metadata": {},
   "outputs": [
    {
     "data": {
      "text/plain": [
       "1.6448536269514722"
      ]
     },
     "execution_count": 4,
     "metadata": {},
     "output_type": "execute_result"
    }
   ],
   "source": [
    "# 90% confidene interval\n",
    "norm.ppf(0.95)"
   ]
  },
  {
   "cell_type": "code",
   "execution_count": 5,
   "id": "c88c5fa5",
   "metadata": {},
   "outputs": [
    {
     "data": {
      "text/plain": [
       "1.475791028179171"
      ]
     },
     "execution_count": 5,
     "metadata": {},
     "output_type": "execute_result"
    }
   ],
   "source": [
    "# 94% onfidence interval\n",
    "norm.ppf(0.93)"
   ]
  },
  {
   "cell_type": "code",
   "execution_count": 6,
   "id": "2223626d",
   "metadata": {},
   "outputs": [
    {
     "data": {
      "text/plain": [
       "0.8416212335729143"
      ]
     },
     "execution_count": 6,
     "metadata": {},
     "output_type": "execute_result"
    }
   ],
   "source": [
    "# 60% confidence interval\n",
    "norm.ppf(0.80)"
   ]
  },
  {
   "cell_type": "markdown",
   "id": "352b2a7e",
   "metadata": {},
   "source": [
    "# The z-Score of a confidence interval shows how far the predicted values from the mean"
   ]
  },
  {
   "cell_type": "markdown",
   "id": "57b04d45",
   "metadata": {},
   "source": [
    "# Calculate the t scores of 95% confidence interval, 96% confidence interval, 99% confidence interval for sample size of 25\n"
   ]
  },
  {
   "cell_type": "code",
   "execution_count": 7,
   "id": "5a101495",
   "metadata": {},
   "outputs": [],
   "source": [
    "# t score for 95% confidence interval and a sample size of 25, here we need to mention DOF(Degree of freedom)"
   ]
  },
  {
   "cell_type": "code",
   "execution_count": 8,
   "id": "c907e14a",
   "metadata": {},
   "outputs": [
    {
     "data": {
      "text/plain": [
       "2.0638985616280205"
      ]
     },
     "execution_count": 8,
     "metadata": {},
     "output_type": "execute_result"
    }
   ],
   "source": [
    "t.ppf(0.975,24) # here df=25-1 = 24"
   ]
  },
  {
   "cell_type": "code",
   "execution_count": 9,
   "id": "27e4cbb2",
   "metadata": {},
   "outputs": [],
   "source": [
    "# t score for 96% confidence interval and a sample size of 25, here we need to mention DOF(Degree of freedom)"
   ]
  },
  {
   "cell_type": "code",
   "execution_count": 10,
   "id": "d21d4e8f",
   "metadata": {},
   "outputs": [
    {
     "data": {
      "text/plain": [
       "2.1715446760080677"
      ]
     },
     "execution_count": 10,
     "metadata": {},
     "output_type": "execute_result"
    }
   ],
   "source": [
    "t.ppf(0.98,24)"
   ]
  },
  {
   "cell_type": "code",
   "execution_count": 11,
   "id": "3a051df2",
   "metadata": {},
   "outputs": [],
   "source": [
    "# t score for 99% confidence interval and a sample size of 25, here we need to mention DOF(Degree of freedom)"
   ]
  },
  {
   "cell_type": "code",
   "execution_count": 12,
   "id": "f3266e4f",
   "metadata": {},
   "outputs": [
    {
     "data": {
      "text/plain": [
       "2.796939504772804"
      ]
     },
     "execution_count": 12,
     "metadata": {},
     "output_type": "execute_result"
    }
   ],
   "source": [
    "t.ppf(0.995,24)"
   ]
  },
  {
   "cell_type": "markdown",
   "id": "0e9f9864",
   "metadata": {},
   "source": [
    "# The t-Score of a confidence interval shows how far the predicted values from the mean"
   ]
  },
  {
   "cell_type": "code",
   "execution_count": null,
   "id": "fd0ae298",
   "metadata": {},
   "outputs": [],
   "source": []
  }
 ],
 "metadata": {
  "kernelspec": {
   "display_name": "Python 3 (ipykernel)",
   "language": "python",
   "name": "python3"
  },
  "language_info": {
   "codemirror_mode": {
    "name": "ipython",
    "version": 3
   },
   "file_extension": ".py",
   "mimetype": "text/x-python",
   "name": "python",
   "nbconvert_exporter": "python",
   "pygments_lexer": "ipython3",
   "version": "3.11.4"
  }
 },
 "nbformat": 4,
 "nbformat_minor": 5
}
