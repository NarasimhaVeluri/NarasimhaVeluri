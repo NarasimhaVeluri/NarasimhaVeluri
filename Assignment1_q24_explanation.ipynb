{
 "cells": [
  {
   "cell_type": "markdown",
   "id": "12054d40",
   "metadata": {},
   "source": [
    "# A Government  company claims that an average light bulb lasts 270 days. A researcher randomly selects 18 bulbs for testing. The sampled bulbs last an average of 260 days, with a standard deviation of 90 days. If the CEO's claim were true, what is the probability that 18 randomly selected bulbs would have an average life of no more than 260 days"
   ]
  },
  {
   "cell_type": "markdown",
   "id": "e7132efc",
   "metadata": {},
   "source": [
    "# here H-not = Mean < 260\n",
    "# here H-one = Mean > 260\n"
   ]
  },
  {
   "cell_type": "code",
   "execution_count": 1,
   "id": "e2d8a4c3",
   "metadata": {},
   "outputs": [],
   "source": [
    "# WE HAVE TO CONDUCT, ONE TAIL t-TEST AND right TAILED TEST"
   ]
  },
  {
   "cell_type": "code",
   "execution_count": 2,
   "id": "1404c9c9",
   "metadata": {},
   "outputs": [],
   "source": [
    "# IMPORT REQUIRED LIBRARIES\n",
    "from scipy.stats import t\n",
    "import numpy as np"
   ]
  },
  {
   "cell_type": "code",
   "execution_count": 4,
   "id": "fda27151",
   "metadata": {},
   "outputs": [
    {
     "data": {
      "text/plain": [
       "0.32167253567098353"
      ]
     },
     "execution_count": 4,
     "metadata": {},
     "output_type": "execute_result"
    }
   ],
   "source": [
    "1- t.cdf(270,17,loc = 260 ,scale = 90/np.sqrt(18))"
   ]
  },
  {
   "cell_type": "markdown",
   "id": "038f966b",
   "metadata": {},
   "source": [
    "# here p value = 0.32 or approximately 32% "
   ]
  },
  {
   "cell_type": "markdown",
   "id": "b60c23b2",
   "metadata": {},
   "source": [
    "# Here p value is greater than the significance level of 0.05 , So we dont have sufficient evidence to reject null hypothesis\n",
    "\n",
    "# That is the average life of the bulbs last is less tahn 260 days"
   ]
  },
  {
   "cell_type": "code",
   "execution_count": null,
   "id": "05bb5b37",
   "metadata": {},
   "outputs": [],
   "source": []
  }
 ],
 "metadata": {
  "kernelspec": {
   "display_name": "Python 3 (ipykernel)",
   "language": "python",
   "name": "python3"
  },
  "language_info": {
   "codemirror_mode": {
    "name": "ipython",
    "version": 3
   },
   "file_extension": ".py",
   "mimetype": "text/x-python",
   "name": "python",
   "nbconvert_exporter": "python",
   "pygments_lexer": "ipython3",
   "version": "3.11.4"
  }
 },
 "nbformat": 4,
 "nbformat_minor": 5
}
