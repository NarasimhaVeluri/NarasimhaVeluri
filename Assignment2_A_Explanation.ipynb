{
 "cells": [
  {
   "cell_type": "markdown",
   "id": "11130a81",
   "metadata": {},
   "source": [
    "# Question:1"
   ]
  },
  {
   "cell_type": "markdown",
   "id": "f18f331e",
   "metadata": {},
   "source": [
    "# The time required for servicing transmissions is normally distributed with  = 45 minutes and  = 8 minutes. The service manager plans to have work begin on the transmission of a customer’s car 10 minutes after the car is dropped off and the customer is told that the car will be ready within 1 hour from drop-off. What is the probability that the service manager cannot meet his commitment? "
   ]
  },
  {
   "cell_type": "code",
   "execution_count": 5,
   "id": "10fe0d66",
   "metadata": {},
   "outputs": [],
   "source": [
    "# import required libraries\n",
    "from scipy import stats\n",
    "from scipy.stats import norm"
   ]
  },
  {
   "cell_type": "code",
   "execution_count": 6,
   "id": "67d5f65d",
   "metadata": {},
   "outputs": [
    {
     "data": {
      "text/plain": [
       "0.625"
      ]
     },
     "execution_count": 6,
     "metadata": {},
     "output_type": "execute_result"
    }
   ],
   "source": [
    "# Here the service manager plans to finish the work within 50 minutes of the car is dropped off\n",
    "# Find Z-Scores at X=50; Z = (X - µ) / σ \n",
    "Z=(50-45)/8\n",
    "Z"
   ]
  },
  {
   "cell_type": "code",
   "execution_count": 7,
   "id": "ba8ec6c4",
   "metadata": {},
   "outputs": [
    {
     "data": {
      "text/plain": [
       "0.26598552904870054"
      ]
     },
     "execution_count": 7,
     "metadata": {},
     "output_type": "execute_result"
    }
   ],
   "source": [
    "# The probability that the service manager cannot meet his requirement is time is greater than 50 minutes\n",
    "# Find probability P(X>50) = 1-stats.norm.cdf(abs(z_score))\n",
    "1-stats.norm.cdf(abs(0.625))"
   ]
  },
  {
   "cell_type": "markdown",
   "id": "cae6845c",
   "metadata": {},
   "source": [
    "# The probability that the service manager cannot meet his requirement is approximately 26.5% "
   ]
  },
  {
   "cell_type": "markdown",
   "id": "89ad1b20",
   "metadata": {},
   "source": [
    "#"
   ]
  },
  {
   "cell_type": "markdown",
   "id": "3b162d2a",
   "metadata": {},
   "source": [
    "#"
   ]
  },
  {
   "cell_type": "markdown",
   "id": "9cecc19d",
   "metadata": {},
   "source": [
    "# Question:2"
   ]
  },
  {
   "cell_type": "markdown",
   "id": "55804f85",
   "metadata": {},
   "source": [
    "# The current age (in years) of 400 clerical employees at an insurance claims processing center is normally distributed with mean  = 38 and Standard deviation  =6. For each statement below, please specify True/False. If false, briefly explain why.\n",
    "\n",
    "\n",
    "# More employees at the processing center are older than 44 than between 38 and 44.\n",
    "# A training program for employees under the age of 30 at the center would be expected to attract about 36 employees.\n"
   ]
  },
  {
   "cell_type": "code",
   "execution_count": 8,
   "id": "00030158",
   "metadata": {},
   "outputs": [],
   "source": [
    "# QA.More employees at the processing center are older than 44 than between 38 and 44."
   ]
  },
  {
   "cell_type": "code",
   "execution_count": 9,
   "id": "83588217",
   "metadata": {},
   "outputs": [
    {
     "data": {
      "text/plain": [
       "0.15865525393145707"
      ]
     },
     "execution_count": 9,
     "metadata": {},
     "output_type": "execute_result"
    }
   ],
   "source": [
    "# find the probability of employees older tahn 44 years\n",
    "# p(X>44); Employees older than 44 yrs of age\n",
    "1-stats.norm.cdf(44,loc=38,scale=6)"
   ]
  },
  {
   "cell_type": "code",
   "execution_count": 10,
   "id": "cf46a891",
   "metadata": {},
   "outputs": [
    {
     "data": {
      "text/plain": [
       "0.3413447460685429"
      ]
     },
     "execution_count": 10,
     "metadata": {},
     "output_type": "execute_result"
    }
   ],
   "source": [
    "# Fine the probability taht the employees are between age of 38 and 44\n",
    "# p(38<X<44); Employees between 38 to 44 yrs of age\n",
    "stats.norm.cdf(44,38,6)-stats.norm.cdf(38,38,6)"
   ]
  },
  {
   "cell_type": "markdown",
   "id": "3cd8fa61",
   "metadata": {},
   "source": [
    "# From the above we can say that  More employees at the processing center are older than 44 than between 38 and 44 is a false statement"
   ]
  },
  {
   "cell_type": "code",
   "execution_count": 11,
   "id": "6561704e",
   "metadata": {},
   "outputs": [
    {
     "data": {
      "text/plain": [
       "0.09121121972586788"
      ]
     },
     "execution_count": 11,
     "metadata": {},
     "output_type": "execute_result"
    }
   ],
   "source": [
    "# QB: A training program for employees under the age of 30 at the center would be expected to attract about 36 employees\n",
    "# Find the probability that the employees are aged under 30 years\n",
    "# P(X<30); Employees under 30 yrs of age\n",
    "stats.norm.cdf(30,38,6)"
   ]
  },
  {
   "cell_type": "markdown",
   "id": "5a3b7b47",
   "metadata": {},
   "source": [
    "# The probability that the employees are under age of 30 is approximately 9% , Which is 36 employees are aged below 30years\n",
    "\n",
    "# A training program for employees under the age of 30 at the center would be expected to attract about 36 employees is a True statement"
   ]
  },
  {
   "cell_type": "markdown",
   "id": "1de3966e",
   "metadata": {},
   "source": [
    "#"
   ]
  },
  {
   "cell_type": "markdown",
   "id": "6a4e61c0",
   "metadata": {},
   "source": [
    "# Question:3  Let X ~ N(100, 202). Find two values, a and b, symmetric about the mean, such that the probability of the random variable taking a value between them is 0.99. "
   ]
  },
  {
   "cell_type": "code",
   "execution_count": 12,
   "id": "bae33563",
   "metadata": {},
   "outputs": [
    {
     "data": {
      "text/plain": [
       "(48.48341392902199, 151.516586070978)"
      ]
     },
     "execution_count": 12,
     "metadata": {},
     "output_type": "execute_result"
    }
   ],
   "source": [
    "# Here mean = 100 and standard deviation = 20\n",
    "# here we have to calculate the 99% confidence interval that the random variable is taking\n",
    "stats.norm.interval(0.99,100,20)"
   ]
  },
  {
   "cell_type": "markdown",
   "id": "04ccc294",
   "metadata": {},
   "source": [
    "# The answer is = (48.48341392902199, 151.516586070978)"
   ]
  },
  {
   "cell_type": "markdown",
   "id": "85fc75b8",
   "metadata": {},
   "source": [
    "#"
   ]
  },
  {
   "cell_type": "markdown",
   "id": "9d972c7c",
   "metadata": {},
   "source": [
    "Consider a company that has two different divisions. The annual profits from the two divisions are independent and have distributions Profit1 ~ N(5, 3^2) and Profit2 ~ N(7,4^2 ) respectively. Both the profits are in Dollar Million. Answer the following questions about the total profit of the company in Rupees. Assume that Dollar = Rs. 45\n",
    "Specify a Rupee range (centered on the mean) such that it contains 95% probability for the annual profit of the company.\n",
    "Specify the 5th percentile of profit (in Rupees) for the company\n",
    "Which of the two divisions has a larger probability of making a loss in a given year?"
   ]
  },
  {
   "cell_type": "code",
   "execution_count": 13,
   "id": "5272e8b5",
   "metadata": {},
   "outputs": [
    {
     "name": "stdout",
     "output_type": "stream",
     "text": [
      "Mean Profit is Rs 540 Million\n"
     ]
    }
   ],
   "source": [
    "# the company is having profits from two dofferent divisions\n",
    "# Mean profits from two different divisions of a company = Mean1 + Mean2 and one dollar is equal to 45 rupees\n",
    "Mean = 5+7\n",
    "print('Mean Profit is Rs', Mean*45,'Million')"
   ]
  },
  {
   "cell_type": "code",
   "execution_count": 14,
   "id": "91298470",
   "metadata": {},
   "outputs": [
    {
     "name": "stdout",
     "output_type": "stream",
     "text": [
      "Standard Deviation is Rs 225.0 Million\n"
     ]
    }
   ],
   "source": [
    "# Variance of profits from two different divisions of a company = SD^2 = SD1^2 + SD2^2\n",
    "import numpy as np\n",
    "SD = np.sqrt((9)+(16))\n",
    "print('Standard Deviation is Rs', SD*45, 'Million')"
   ]
  },
  {
   "cell_type": "code",
   "execution_count": 15,
   "id": "17df7d10",
   "metadata": {},
   "outputs": [
    {
     "name": "stdout",
     "output_type": "stream",
     "text": [
      "Range is Rs (99.00810347848784, 980.9918965215122) in Millions\n"
     ]
    }
   ],
   "source": [
    "# Q.A: Specify a Rupee range (centered on the mean) such that it contains 95% probability for the annual profit of the company.\n",
    "print('Range is Rs',(norm.interval(0.95,540,225)),'in Millions')"
   ]
  },
  {
   "cell_type": "code",
   "execution_count": 19,
   "id": "971b353f",
   "metadata": {},
   "outputs": [
    {
     "name": "stdout",
     "output_type": "stream",
     "text": [
      "5th percentile of profit  is 169.88 Million Rupees\n"
     ]
    }
   ],
   "source": [
    "#Q.B: Specify the 5th percentile of profit (in Rupees) for the company\n",
    "# To compute 5th Percentile, we use the formula X=μ + Zσ; wherein from z table, 5 percentile = -1.645\n",
    "X= 540+(-1.645)*(225)\n",
    "print('5th percentile of profit  is',np.round(X,2),'Million Rupees')"
   ]
  },
  {
   "cell_type": "code",
   "execution_count": 22,
   "id": "f1a2cc42",
   "metadata": {},
   "outputs": [
    {
     "name": "stdout",
     "output_type": "stream",
     "text": [
      "Probability of Division 1 making a loss is 0.0477903522728147\n",
      "Probability of Division 2 making a loss is 0.040059156863817086\n"
     ]
    }
   ],
   "source": [
    "# Q.C:Which of the two divisions has a larger probability of making a loss in a given year?\n",
    "# Probability of Division 1 making a loss P(X<0)\n",
    "print('Probability of Division 1 making a loss is',stats.norm.cdf(0,5,3))\n",
    "print('Probability of Division 2 making a loss is',stats.norm.cdf(0,7,4))"
   ]
  },
  {
   "cell_type": "markdown",
   "id": "d582e999",
   "metadata": {},
   "source": [
    "# From the above  we can say that Division 1 has slightly higher propability of 0.007 of making a loss when compared to Division2"
   ]
  },
  {
   "cell_type": "code",
   "execution_count": null,
   "id": "c297ad3c",
   "metadata": {},
   "outputs": [],
   "source": []
  }
 ],
 "metadata": {
  "kernelspec": {
   "display_name": "Python 3 (ipykernel)",
   "language": "python",
   "name": "python3"
  },
  "language_info": {
   "codemirror_mode": {
    "name": "ipython",
    "version": 3
   },
   "file_extension": ".py",
   "mimetype": "text/x-python",
   "name": "python",
   "nbconvert_exporter": "python",
   "pygments_lexer": "ipython3",
   "version": "3.11.4"
  }
 },
 "nbformat": 4,
 "nbformat_minor": 5
}
